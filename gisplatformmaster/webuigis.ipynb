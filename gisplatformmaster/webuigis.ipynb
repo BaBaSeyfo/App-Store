{
 "cells": [
  {
   "cell_type": "code",
   "execution_count": null,
   "metadata": {},
   "outputs": [
    {
     "name": "stdout",
     "output_type": "stream",
     "text": [
      " * Serving Flask app \"__main__\" (lazy loading)\n",
      " * Environment: production\n",
      "   WARNING: This is a development server. Do not use it in a production deployment.\n",
      "   Use a production WSGI server instead.\n",
      " * Debug mode: off\n"
     ]
    },
    {
     "name": "stderr",
     "output_type": "stream",
     "text": [
      " * Running on http://127.0.0.1:8050/ (Press CTRL+C to quit)\n",
      "127.0.0.1 - - [03/Apr/2020 11:21:59] \"GET / HTTP/1.1\" 200 -\n",
      "127.0.0.1 - - [03/Apr/2020 11:21:59] \"GET /_dash-component-suites/dash_renderer/react@16.v1_3_0m1585903798.13.0.min.js HTTP/1.1\" 200 -\n",
      "127.0.0.1 - - [03/Apr/2020 11:21:59] \"GET /_dash-component-suites/dash_core_components/dash_core_components-shared.v1_9_0m1585903800.js HTTP/1.1\" 200 -\n",
      "127.0.0.1 - - [03/Apr/2020 11:21:59] \"GET /_dash-component-suites/dash_renderer/prop-types@15.v1_3_0m1585903798.7.2.min.js HTTP/1.1\" 200 -\n",
      "127.0.0.1 - - [03/Apr/2020 11:21:59] \"GET /_dash-component-suites/dash_renderer/polyfill@7.v1_3_0m1585903798.8.7.min.js HTTP/1.1\" 200 -\n",
      "127.0.0.1 - - [03/Apr/2020 11:21:59] \"GET /_dash-component-suites/dash_renderer/react-dom@16.v1_3_0m1585903798.13.0.min.js HTTP/1.1\" 200 -\n",
      "127.0.0.1 - - [03/Apr/2020 11:21:59] \"GET /_dash-component-suites/dash_html_components/dash_html_components.v1_0_3m1585903799.min.js HTTP/1.1\" 200 -\n",
      "127.0.0.1 - - [03/Apr/2020 11:21:59] \"GET /_dash-component-suites/dash_core_components/dash_core_components.v1_9_0m1585903800.min.js HTTP/1.1\" 200 -\n",
      "127.0.0.1 - - [03/Apr/2020 11:21:59] \"GET /_dash-component-suites/dash_renderer/dash_renderer.v1_3_0m1585903798.min.js HTTP/1.1\" 200 -\n",
      "127.0.0.1 - - [03/Apr/2020 11:21:59] \"GET /_dash-layout HTTP/1.1\" 200 -\n",
      "127.0.0.1 - - [03/Apr/2020 11:21:59] \"GET /_dash-dependencies HTTP/1.1\" 200 -\n"
     ]
    }
   ],
   "source": [
    "import pandas\n",
    "import dash\n",
    "import dash_core_components as dcc\n",
    "import dash_html_components as html\n",
    "\n",
    "\n",
    "gis = dash.Dash()\n",
    "gis.layout = html.Div(children=[html.H1('Dash test'),('nu wel mooi')])\n",
    "\n",
    "if __name__ == '__main__':\n",
    "        gis.run_server(debug=False)"
   ]
  }
 ],
 "metadata": {
  "kernelspec": {
   "display_name": "Python 3",
   "language": "python",
   "name": "python3"
  },
  "language_info": {
   "codemirror_mode": {
    "name": "ipython",
    "version": 3
   },
   "file_extension": ".py",
   "mimetype": "text/x-python",
   "name": "python",
   "nbconvert_exporter": "python",
   "pygments_lexer": "ipython3",
   "version": "3.7.4"
  }
 },
 "nbformat": 4,
 "nbformat_minor": 4
}
